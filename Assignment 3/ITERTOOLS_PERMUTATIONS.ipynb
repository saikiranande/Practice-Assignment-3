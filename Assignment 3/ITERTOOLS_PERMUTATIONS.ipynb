{
 "cells": [
  {
   "cell_type": "code",
   "execution_count": 3,
   "id": "8e5416f3",
   "metadata": {},
   "outputs": [
    {
     "name": "stdout",
     "output_type": "stream",
     "text": [
      "EDYODA 2\n",
      "AD\n",
      "AD\n",
      "AE\n",
      "AO\n",
      "AY\n",
      "DA\n",
      "DD\n",
      "DE\n",
      "DO\n",
      "DY\n",
      "DA\n",
      "DD\n",
      "DE\n",
      "DO\n",
      "DY\n",
      "EA\n",
      "ED\n",
      "ED\n",
      "EO\n",
      "EY\n",
      "OA\n",
      "OD\n",
      "OD\n",
      "OE\n",
      "OY\n",
      "YA\n",
      "YD\n",
      "YD\n",
      "YE\n",
      "YO\n"
     ]
    }
   ],
   "source": [
    "from itertools import permutations\n",
    "iterable = input().split()\n",
    "str = iterable[0]\n",
    "k = int(iterable[1])\n",
    "for j in permutations(sorted(str),k):\n",
    "        print(''.join(j))"
   ]
  },
  {
   "cell_type": "code",
   "execution_count": null,
   "id": "680f0932",
   "metadata": {},
   "outputs": [],
   "source": []
  }
 ],
 "metadata": {
  "kernelspec": {
   "display_name": "Python 3 (ipykernel)",
   "language": "python",
   "name": "python3"
  },
  "language_info": {
   "codemirror_mode": {
    "name": "ipython",
    "version": 3
   },
   "file_extension": ".py",
   "mimetype": "text/x-python",
   "name": "python",
   "nbconvert_exporter": "python",
   "pygments_lexer": "ipython3",
   "version": "3.9.7"
  }
 },
 "nbformat": 4,
 "nbformat_minor": 5
}
